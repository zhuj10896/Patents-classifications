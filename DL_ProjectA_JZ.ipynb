{
 "cells": [
  {
   "cell_type": "code",
   "execution_count": 32,
   "metadata": {},
   "outputs": [],
   "source": [
    "# %load scal.py\n",
    "#!/usr/bin/env python3\n",
    "\"\"\"\n",
    "Created on Fri Apr  5 15:18:41 2019\n",
    "\n",
    "@author: zhujingyao\n",
    "\"\"\"\n",
    "###############################################################\n",
    "# transform data to ddataframe and combine two tables\n",
    "###############################################################\n",
    "f= open(\"train.txt\",\"rb\")\n",
    "text = f.read().decode(errors='replace') # read file\n",
    "import re\n",
    "text1 = text.replace('20030006121','',1) #remove first num\n",
    "text2 =re.split('\\n\\d{11}\\s\\s\\s',text1) #use other num as tag to split\n",
    "import pandas as pd\n",
    "data = pd.DataFrame()\n",
    "df1 =pd.DataFrame(text2) #dataframe1\n",
    "df2 = pd.read_csv('label.txt',sep='\\s+',header=None) #dataframe2\n",
    "df = pd.concat([df1,df2],axis=1,ignore_index=True)\n",
    "df[[df.index[0],df.index[1]]] = df[[df.index[1],df.index[0]]]\n",
    "df.columns = [\"Patent_No\",\"Description\",\"Category\"]\n",
    "data = df\n"
   ]
  },
  {
   "cell_type": "code",
   "execution_count": 33,
   "metadata": {},
   "outputs": [
    {
     "data": {
      "text/html": [
       "<div>\n",
       "<style scoped>\n",
       "    .dataframe tbody tr th:only-of-type {\n",
       "        vertical-align: middle;\n",
       "    }\n",
       "\n",
       "    .dataframe tbody tr th {\n",
       "        vertical-align: top;\n",
       "    }\n",
       "\n",
       "    .dataframe thead th {\n",
       "        text-align: right;\n",
       "    }\n",
       "</style>\n",
       "<table border=\"1\" class=\"dataframe\">\n",
       "  <thead>\n",
       "    <tr style=\"text-align: right;\">\n",
       "      <th></th>\n",
       "      <th>Patent_No</th>\n",
       "      <th>Description</th>\n",
       "      <th>Category</th>\n",
       "    </tr>\n",
       "  </thead>\n",
       "  <tbody>\n",
       "    <tr>\n",
       "      <th>0</th>\n",
       "      <td>20030006121</td>\n",
       "      <td>Passive radio frequency identification sys...</td>\n",
       "      <td>8</td>\n",
       "    </tr>\n",
       "    <tr>\n",
       "      <th>1</th>\n",
       "      <td>20030009666</td>\n",
       "      <td>Methods and apparatus for efficient computati...</td>\n",
       "      <td>0</td>\n",
       "    </tr>\n",
       "    <tr>\n",
       "      <th>2</th>\n",
       "      <td>20030014337</td>\n",
       "      <td>Systems, methods and computer program product...</td>\n",
       "      <td>8</td>\n",
       "    </tr>\n",
       "    <tr>\n",
       "      <th>3</th>\n",
       "      <td>20030019942</td>\n",
       "      <td>System and method for electronically readable...</td>\n",
       "      <td>8</td>\n",
       "    </tr>\n",
       "    <tr>\n",
       "      <th>4</th>\n",
       "      <td>20030033242</td>\n",
       "      <td>System and method for automated process of de...</td>\n",
       "      <td>6</td>\n",
       "    </tr>\n",
       "  </tbody>\n",
       "</table>\n",
       "</div>"
      ],
      "text/plain": [
       "     Patent_No                                        Description  Category\n",
       "0  20030006121      Passive radio frequency identification sys...         8\n",
       "1  20030009666   Methods and apparatus for efficient computati...         0\n",
       "2  20030014337   Systems, methods and computer program product...         8\n",
       "3  20030019942   System and method for electronically readable...         8\n",
       "4  20030033242   System and method for automated process of de...         6"
      ]
     },
     "execution_count": 33,
     "metadata": {},
     "output_type": "execute_result"
    }
   ],
   "source": [
    "data.head()"
   ]
  },
  {
   "cell_type": "code",
   "execution_count": 34,
   "metadata": {},
   "outputs": [
    {
     "name": "stdout",
     "output_type": "stream",
     "text": [
      "0    274\n",
      "8    228\n",
      "1     84\n",
      "2     77\n",
      "3     61\n",
      "6     45\n",
      "5     42\n",
      "4     37\n",
      "7     34\n",
      "Name: Category, dtype: int64\n"
     ]
    }
   ],
   "source": [
    "print(data['Category'].value_counts())  ## unbalanced but not significantly!!"
   ]
  },
  {
   "cell_type": "code",
   "execution_count": 35,
   "metadata": {},
   "outputs": [
    {
     "data": {
      "text/plain": [
       "Patent_No       int64\n",
       "Description    object\n",
       "Category        int64\n",
       "dtype: object"
      ]
     },
     "execution_count": 35,
     "metadata": {},
     "output_type": "execute_result"
    }
   ],
   "source": [
    "data.dtypes"
   ]
  },
  {
   "cell_type": "code",
   "execution_count": 37,
   "metadata": {},
   "outputs": [
    {
     "data": {
      "text/html": [
       "<div>\n",
       "<style scoped>\n",
       "    .dataframe tbody tr th:only-of-type {\n",
       "        vertical-align: middle;\n",
       "    }\n",
       "\n",
       "    .dataframe tbody tr th {\n",
       "        vertical-align: top;\n",
       "    }\n",
       "\n",
       "    .dataframe thead th {\n",
       "        text-align: right;\n",
       "    }\n",
       "</style>\n",
       "<table border=\"1\" class=\"dataframe\">\n",
       "  <thead>\n",
       "    <tr style=\"text-align: right;\">\n",
       "      <th></th>\n",
       "      <th>Patent_No</th>\n",
       "      <th>Description</th>\n",
       "      <th>Category</th>\n",
       "      <th>word</th>\n",
       "    </tr>\n",
       "  </thead>\n",
       "  <tbody>\n",
       "    <tr>\n",
       "      <th>0</th>\n",
       "      <td>20030006121</td>\n",
       "      <td>Passive radio frequency identification sys...</td>\n",
       "      <td>8</td>\n",
       "      <td>passive radio frequency identification sys...</td>\n",
       "    </tr>\n",
       "    <tr>\n",
       "      <th>1</th>\n",
       "      <td>20030009666</td>\n",
       "      <td>Methods and apparatus for efficient computati...</td>\n",
       "      <td>0</td>\n",
       "      <td>methods and apparatus for efficient computati...</td>\n",
       "    </tr>\n",
       "    <tr>\n",
       "      <th>2</th>\n",
       "      <td>20030014337</td>\n",
       "      <td>Systems, methods and computer program product...</td>\n",
       "      <td>8</td>\n",
       "      <td>systems, methods and computer program product...</td>\n",
       "    </tr>\n",
       "    <tr>\n",
       "      <th>3</th>\n",
       "      <td>20030019942</td>\n",
       "      <td>System and method for electronically readable...</td>\n",
       "      <td>8</td>\n",
       "      <td>system and method for electronically readable...</td>\n",
       "    </tr>\n",
       "    <tr>\n",
       "      <th>4</th>\n",
       "      <td>20030033242</td>\n",
       "      <td>System and method for automated process of de...</td>\n",
       "      <td>6</td>\n",
       "      <td>system and method for automated process of de...</td>\n",
       "    </tr>\n",
       "  </tbody>\n",
       "</table>\n",
       "</div>"
      ],
      "text/plain": [
       "     Patent_No                                        Description  Category  \\\n",
       "0  20030006121      Passive radio frequency identification sys...         8   \n",
       "1  20030009666   Methods and apparatus for efficient computati...         0   \n",
       "2  20030014337   Systems, methods and computer program product...         8   \n",
       "3  20030019942   System and method for electronically readable...         8   \n",
       "4  20030033242   System and method for automated process of de...         6   \n",
       "\n",
       "                                                word  \n",
       "0      passive radio frequency identification sys...  \n",
       "1   methods and apparatus for efficient computati...  \n",
       "2   systems, methods and computer program product...  \n",
       "3   system and method for electronically readable...  \n",
       "4   system and method for automated process of de...  "
      ]
     },
     "execution_count": 37,
     "metadata": {},
     "output_type": "execute_result"
    }
   ],
   "source": [
    "###############################################################\n",
    "# text processing\n",
    "###############################################################\n",
    "import nltk\n",
    "#nltk.download('punkt')\n",
    "#nltk.download('stopwords')\n",
    "data['word'] = data['Description'].str.lower()  ### lowercase\n",
    "data.head()"
   ]
  },
  {
   "cell_type": "code",
   "execution_count": 38,
   "metadata": {},
   "outputs": [
    {
     "data": {
      "text/html": [
       "<div>\n",
       "<style scoped>\n",
       "    .dataframe tbody tr th:only-of-type {\n",
       "        vertical-align: middle;\n",
       "    }\n",
       "\n",
       "    .dataframe tbody tr th {\n",
       "        vertical-align: top;\n",
       "    }\n",
       "\n",
       "    .dataframe thead th {\n",
       "        text-align: right;\n",
       "    }\n",
       "</style>\n",
       "<table border=\"1\" class=\"dataframe\">\n",
       "  <thead>\n",
       "    <tr style=\"text-align: right;\">\n",
       "      <th></th>\n",
       "      <th>Patent_No</th>\n",
       "      <th>Description</th>\n",
       "      <th>Category</th>\n",
       "      <th>word</th>\n",
       "    </tr>\n",
       "  </thead>\n",
       "  <tbody>\n",
       "    <tr>\n",
       "      <th>0</th>\n",
       "      <td>20030006121</td>\n",
       "      <td>Passive radio frequency identification sys...</td>\n",
       "      <td>8</td>\n",
       "      <td>[passive, radio, frequency, identification, sy...</td>\n",
       "    </tr>\n",
       "    <tr>\n",
       "      <th>1</th>\n",
       "      <td>20030009666</td>\n",
       "      <td>Methods and apparatus for efficient computati...</td>\n",
       "      <td>0</td>\n",
       "      <td>[methods, and, apparatus, for, efficient, comp...</td>\n",
       "    </tr>\n",
       "    <tr>\n",
       "      <th>2</th>\n",
       "      <td>20030014337</td>\n",
       "      <td>Systems, methods and computer program product...</td>\n",
       "      <td>8</td>\n",
       "      <td>[systems, methods, and, computer, program, pro...</td>\n",
       "    </tr>\n",
       "    <tr>\n",
       "      <th>3</th>\n",
       "      <td>20030019942</td>\n",
       "      <td>System and method for electronically readable...</td>\n",
       "      <td>8</td>\n",
       "      <td>[system, and, method, for, electronically, rea...</td>\n",
       "    </tr>\n",
       "    <tr>\n",
       "      <th>4</th>\n",
       "      <td>20030033242</td>\n",
       "      <td>System and method for automated process of de...</td>\n",
       "      <td>6</td>\n",
       "      <td>[system, and, method, for, automated, process,...</td>\n",
       "    </tr>\n",
       "  </tbody>\n",
       "</table>\n",
       "</div>"
      ],
      "text/plain": [
       "     Patent_No                                        Description  Category  \\\n",
       "0  20030006121      Passive radio frequency identification sys...         8   \n",
       "1  20030009666   Methods and apparatus for efficient computati...         0   \n",
       "2  20030014337   Systems, methods and computer program product...         8   \n",
       "3  20030019942   System and method for electronically readable...         8   \n",
       "4  20030033242   System and method for automated process of de...         6   \n",
       "\n",
       "                                                word  \n",
       "0  [passive, radio, frequency, identification, sy...  \n",
       "1  [methods, and, apparatus, for, efficient, comp...  \n",
       "2  [systems, methods, and, computer, program, pro...  \n",
       "3  [system, and, method, for, electronically, rea...  \n",
       "4  [system, and, method, for, automated, process,...  "
      ]
     },
     "execution_count": 38,
     "metadata": {},
     "output_type": "execute_result"
    }
   ],
   "source": [
    "tokenizer=nltk.tokenize.RegexpTokenizer(r'\\w+')\n",
    "data['word'] =data['word'].apply(tokenizer.tokenize) ### tokenize the words and remove punctuation\n",
    "data.head()"
   ]
  },
  {
   "cell_type": "code",
   "execution_count": 14,
   "metadata": {},
   "outputs": [],
   "source": [
    "## I think to make sense of words, it is better we don't do stemming. The words loses its meaning !! \n",
    "#from nltk.stem.snowball import SnowballStemmer\n",
    "#stemmer = SnowballStemmer(\"english\")\n",
    "#data['word'] = data['word'].apply(lambda x: [stemmer.stem(y) for y in x]) ### stem the words\n",
    "#data.head()"
   ]
  },
  {
   "cell_type": "code",
   "execution_count": 39,
   "metadata": {},
   "outputs": [
    {
     "data": {
      "text/html": [
       "<div>\n",
       "<style scoped>\n",
       "    .dataframe tbody tr th:only-of-type {\n",
       "        vertical-align: middle;\n",
       "    }\n",
       "\n",
       "    .dataframe tbody tr th {\n",
       "        vertical-align: top;\n",
       "    }\n",
       "\n",
       "    .dataframe thead th {\n",
       "        text-align: right;\n",
       "    }\n",
       "</style>\n",
       "<table border=\"1\" class=\"dataframe\">\n",
       "  <thead>\n",
       "    <tr style=\"text-align: right;\">\n",
       "      <th></th>\n",
       "      <th>Patent_No</th>\n",
       "      <th>Description</th>\n",
       "      <th>Category</th>\n",
       "      <th>word</th>\n",
       "    </tr>\n",
       "  </thead>\n",
       "  <tbody>\n",
       "    <tr>\n",
       "      <th>0</th>\n",
       "      <td>20030006121</td>\n",
       "      <td>Passive radio frequency identification sys...</td>\n",
       "      <td>8</td>\n",
       "      <td>[passive, radio, frequency, identification, sy...</td>\n",
       "    </tr>\n",
       "    <tr>\n",
       "      <th>1</th>\n",
       "      <td>20030009666</td>\n",
       "      <td>Methods and apparatus for efficient computati...</td>\n",
       "      <td>0</td>\n",
       "      <td>[methods, apparatus, efficient, computation, o...</td>\n",
       "    </tr>\n",
       "    <tr>\n",
       "      <th>2</th>\n",
       "      <td>20030014337</td>\n",
       "      <td>Systems, methods and computer program product...</td>\n",
       "      <td>8</td>\n",
       "      <td>[systems, methods, computer, program, products...</td>\n",
       "    </tr>\n",
       "    <tr>\n",
       "      <th>3</th>\n",
       "      <td>20030019942</td>\n",
       "      <td>System and method for electronically readable...</td>\n",
       "      <td>8</td>\n",
       "      <td>[system, method, electronically, readable, car...</td>\n",
       "    </tr>\n",
       "    <tr>\n",
       "      <th>4</th>\n",
       "      <td>20030033242</td>\n",
       "      <td>System and method for automated process of de...</td>\n",
       "      <td>6</td>\n",
       "      <td>[system, method, automated, process, deal, str...</td>\n",
       "    </tr>\n",
       "  </tbody>\n",
       "</table>\n",
       "</div>"
      ],
      "text/plain": [
       "     Patent_No                                        Description  Category  \\\n",
       "0  20030006121      Passive radio frequency identification sys...         8   \n",
       "1  20030009666   Methods and apparatus for efficient computati...         0   \n",
       "2  20030014337   Systems, methods and computer program product...         8   \n",
       "3  20030019942   System and method for electronically readable...         8   \n",
       "4  20030033242   System and method for automated process of de...         6   \n",
       "\n",
       "                                                word  \n",
       "0  [passive, radio, frequency, identification, sy...  \n",
       "1  [methods, apparatus, efficient, computation, o...  \n",
       "2  [systems, methods, computer, program, products...  \n",
       "3  [system, method, electronically, readable, car...  \n",
       "4  [system, method, automated, process, deal, str...  "
      ]
     },
     "execution_count": 39,
     "metadata": {},
     "output_type": "execute_result"
    }
   ],
   "source": [
    "from nltk.corpus import stopwords\n",
    "stop = stopwords.words('english')\n",
    "data['word'] = data['word'].apply(lambda x: [item for item in x if item not in stop]) ### remove the stop words\n",
    "data.head()"
   ]
  },
  {
   "cell_type": "code",
   "execution_count": null,
   "metadata": {},
   "outputs": [],
   "source": []
  },
  {
   "cell_type": "code",
   "execution_count": 44,
   "metadata": {},
   "outputs": [
    {
     "name": "stdout",
     "output_type": "stream",
     "text": [
      "['may', 'user', 'transact', 'system', 'data', 'devic', 'account', 'payment', 'use', 'one']\n",
      "#####-------#####-------####\n"
     ]
    }
   ],
   "source": [
    "## Wanted to get this thing done using TFIDF\n",
    "\n",
    "a_words = text.lower()\n",
    "allWords = tokenizer.tokenize(a_words)\n",
    "meaningful_words = [w for w in allWords if not w in stop]\n",
    "###freqDist_allWords = nltk.FreqDist(meaningful_words)\n",
    "allWordExceptStopDistwithstem = nltk.FreqDist([stemmer.stem(w) for w in meaningful_words])\n",
    "mostCommon= allWordExceptStopDistwithstem.most_common(50)\n",
    "#mostCommon = freqDist_allWords.most_common(50)\n",
    "top_50_word_dic = dict(mostCommon)\n",
    "top_50_word = list(top_50_word_dic.keys())  ### build top 50 words\n",
    "print(top_50_word[0:10])\n",
    "print('#####-------#####-------####')\n"
   ]
  },
  {
   "cell_type": "code",
   "execution_count": 45,
   "metadata": {},
   "outputs": [
    {
     "name": "stdout",
     "output_type": "stream",
     "text": [
      "[165889, 96980, 94831, 90892, 80667, 80556, 76545, 73803, 71277, 69319]\n"
     ]
    }
   ],
   "source": [
    "print([top_50_word_dic[x] for x in top_50_word[0:10]])"
   ]
  },
  {
   "cell_type": "code",
   "execution_count": 46,
   "metadata": {},
   "outputs": [
    {
     "data": {
      "text/plain": [
       "<BarContainer object of 50 artists>"
      ]
     },
     "execution_count": 46,
     "metadata": {},
     "output_type": "execute_result"
    },
    {
     "data": {
      "image/png": "[encoded data removed]",
      "text/plain": [
       "<Figure size 1080x432 with 1 Axes>"
      ]
     },
     "metadata": {
      "needs_background": "light"
     },
     "output_type": "display_data"
    }
   ],
   "source": [
    "import matplotlib.pyplot as plt\n",
    "plt.figure(figsize=(15,6))\n",
    "plt.bar(list(top_50_word_dic.keys()), top_50_word_dic.values(), color='b')\n"
   ]
  },
  {
   "cell_type": "code",
   "execution_count": 47,
   "metadata": {},
   "outputs": [],
   "source": [
    "data['word'] = data['word'].apply(lambda x: [item for item in x if item not in top_50_word])  ### Remove top 50 words\n",
    "\n"
   ]
  },
  {
   "cell_type": "code",
   "execution_count": 48,
   "metadata": {},
   "outputs": [
    {
     "data": {
      "text/html": [
       "<div>\n",
       "<style scoped>\n",
       "    .dataframe tbody tr th:only-of-type {\n",
       "        vertical-align: middle;\n",
       "    }\n",
       "\n",
       "    .dataframe tbody tr th {\n",
       "        vertical-align: top;\n",
       "    }\n",
       "\n",
       "    .dataframe thead th {\n",
       "        text-align: right;\n",
       "    }\n",
       "</style>\n",
       "<table border=\"1\" class=\"dataframe\">\n",
       "  <thead>\n",
       "    <tr style=\"text-align: right;\">\n",
       "      <th></th>\n",
       "      <th>Patent_No</th>\n",
       "      <th>Description</th>\n",
       "      <th>Category</th>\n",
       "      <th>word</th>\n",
       "      <th>Map_Word</th>\n",
       "    </tr>\n",
       "  </thead>\n",
       "  <tbody>\n",
       "    <tr>\n",
       "      <th>0</th>\n",
       "      <td>20030006121</td>\n",
       "      <td>Passive radio frequency identification sys...</td>\n",
       "      <td>8</td>\n",
       "      <td>[passive, radio, frequency, identification, id...</td>\n",
       "      <td>passive radio frequency identification identif...</td>\n",
       "    </tr>\n",
       "    <tr>\n",
       "      <th>1</th>\n",
       "      <td>20030009666</td>\n",
       "      <td>Methods and apparatus for efficient computati...</td>\n",
       "      <td>0</td>\n",
       "      <td>[methods, apparatus, efficient, computation, w...</td>\n",
       "      <td>methods apparatus efficient computation way ch...</td>\n",
       "    </tr>\n",
       "    <tr>\n",
       "      <th>2</th>\n",
       "      <td>20030014337</td>\n",
       "      <td>Systems, methods and computer program product...</td>\n",
       "      <td>8</td>\n",
       "      <td>[systems, methods, computer, program, products...</td>\n",
       "      <td>systems methods computer program products perf...</td>\n",
       "    </tr>\n",
       "    <tr>\n",
       "      <th>3</th>\n",
       "      <td>20030019942</td>\n",
       "      <td>System and method for electronically readable...</td>\n",
       "      <td>8</td>\n",
       "      <td>[electronically, readable, power, source, impr...</td>\n",
       "      <td>electronically readable power source improved ...</td>\n",
       "    </tr>\n",
       "    <tr>\n",
       "      <th>4</th>\n",
       "      <td>20030033242</td>\n",
       "      <td>System and method for automated process of de...</td>\n",
       "      <td>6</td>\n",
       "      <td>[automated, deal, structuring, automated, deal...</td>\n",
       "      <td>automated deal structuring automated deal proc...</td>\n",
       "    </tr>\n",
       "  </tbody>\n",
       "</table>\n",
       "</div>"
      ],
      "text/plain": [
       "     Patent_No                                        Description  Category  \\\n",
       "0  20030006121      Passive radio frequency identification sys...         8   \n",
       "1  20030009666   Methods and apparatus for efficient computati...         0   \n",
       "2  20030014337   Systems, methods and computer program product...         8   \n",
       "3  20030019942   System and method for electronically readable...         8   \n",
       "4  20030033242   System and method for automated process of de...         6   \n",
       "\n",
       "                                                word  \\\n",
       "0  [passive, radio, frequency, identification, id...   \n",
       "1  [methods, apparatus, efficient, computation, w...   \n",
       "2  [systems, methods, computer, program, products...   \n",
       "3  [electronically, readable, power, source, impr...   \n",
       "4  [automated, deal, structuring, automated, deal...   \n",
       "\n",
       "                                            Map_Word  \n",
       "0  passive radio frequency identification identif...  \n",
       "1  methods apparatus efficient computation way ch...  \n",
       "2  systems methods computer program products perf...  \n",
       "3  electronically readable power source improved ...  \n",
       "4  automated deal structuring automated deal proc...  "
      ]
     },
     "execution_count": 48,
     "metadata": {},
     "output_type": "execute_result"
    }
   ],
   "source": [
    "from sacremoses import MosesDetokenizer\n",
    "detokenizer = MosesDetokenizer()\n",
    "data['Map_Word'] = data['word'].apply(detokenizer.detokenize) # untokenize the words\n",
    "data.head()"
   ]
  },
  {
   "cell_type": "code",
   "execution_count": 49,
   "metadata": {},
   "outputs": [],
   "source": [
    "## Split the data into 'test' and train\n",
    "from sklearn.model_selection import train_test_split\n",
    "X_train, X_test, y_train, y_test = train_test_split(data['Map_Word'], df['Category'], test_size=0.20)"
   ]
  },
  {
   "cell_type": "code",
   "execution_count": 50,
   "metadata": {},
   "outputs": [
    {
     "data": {
      "text/plain": [
       "358    financial preparedness tool methods systems re...\n",
       "153    systems methods facilitating financial transac...\n",
       "434    device delivering communications storing deliv...\n",
       "146    usefulness novel divorce insurance annuity ins...\n",
       "145    registering device verify transactions oriente...\n",
       "Name: Map_Word, dtype: object"
      ]
     },
     "execution_count": 50,
     "metadata": {},
     "output_type": "execute_result"
    }
   ],
   "source": [
    "X_train.head()"
   ]
  },
  {
   "cell_type": "code",
   "execution_count": 51,
   "metadata": {},
   "outputs": [
    {
     "data": {
      "text/plain": [
       "358    6\n",
       "153    5\n",
       "434    0\n",
       "146    8\n",
       "145    1\n",
       "Name: Category, dtype: int64"
      ]
     },
     "execution_count": 51,
     "metadata": {},
     "output_type": "execute_result"
    }
   ],
   "source": [
    "y_train.head()"
   ]
  },
  {
   "cell_type": "code",
   "execution_count": 52,
   "metadata": {},
   "outputs": [],
   "source": [
    "import spacy\n",
    "#spacy.load('en')\n",
    "spacy.load('en_core_web_sm')\n",
    "from spacy.lang.en import English\n",
    "from sklearn.feature_extraction.stop_words import ENGLISH_STOP_WORDS\n",
    "parser = English()\n",
    "from sklearn.feature_extraction.text import TfidfVectorizer\n",
    "\n",
    "STOPWORDS = set(stopwords.words('english') + list(ENGLISH_STOP_WORDS))\n",
    "vectorizer = TfidfVectorizer(ngram_range=(1,2), stop_words= 'english', analyzer= 'word', min_df = 3)"
   ]
  },
  {
   "cell_type": "code",
   "execution_count": 57,
   "metadata": {},
   "outputs": [],
   "source": [
    "from sklearn.metrics import accuracy_score\n",
    "from sklearn.metrics import roc_auc_score\n",
    "from sklearn.pipeline import Pipeline\n",
    "def get_model_results(model_name,model,X_train,y_train,X_test,y_test):\n",
    "    print('*********************************************')\n",
    "    print('********** Processing Model %s **********' %(model_name))\n",
    "    model_pipeline = Pipeline([('tfidf', vectorizer),\n",
    "                         ('model', model)])\n",
    "\n",
    "    text_clf = model_pipeline.fit(X_train, y_train)\n",
    "    predicted = text_clf.predict(X_test)\n",
    "    print('********** Prediction In Progress **********', '\\n\\n')\n",
    "    print('*************** Results *******************')\n",
    "    accuracy = accuracy_score(y_test, predicted)\n",
    "    cf = pd.crosstab(y_test, predicted)\n",
    "    print('Accuracy:', '\\t', round((accuracy* 100), 3), '%')\n",
    "    print('Confusion Matrix:', '\\n', cf)\n",
    "    print('*******************************************')\n",
    "    predicted_df = pd.concat([pd.Series(X_test), pd.Series(y_test), pd.Series(predicted)], axis = 1)\n",
    "    return(predicted_df, text_clf) "
   ]
  },
  {
   "cell_type": "code",
   "execution_count": 63,
   "metadata": {},
   "outputs": [],
   "source": [
    "## Ignoring the Future Warning\n",
    "#import warnings filter\n",
    "from warnings import simplefilter\n",
    "# ignore all future warnings\n",
    "simplefilter(action='ignore', category=FutureWarning)"
   ]
  },
  {
   "cell_type": "code",
   "execution_count": 58,
   "metadata": {},
   "outputs": [
    {
     "name": "stdout",
     "output_type": "stream",
     "text": [
      "*********************************************\n",
      "********** Processing Model Naive Bayes **********\n",
      "********** Prediction In Progress ********** \n",
      "\n",
      "\n",
      "*************** Results *******************\n",
      "Accuracy: \t 49.718 %\n",
      "Confusion Matrix: \n",
      " col_0      0  2  3  7   8\n",
      "Category                 \n",
      "0         51  0  0  0   5\n",
      "1         13  0  0  0   9\n",
      "2         10  2  0  0   4\n",
      "3          3  0  6  0   0\n",
      "4          7  0  0  0   1\n",
      "5          0  0  0  0   9\n",
      "6          1  0  0  0   7\n",
      "7          3  0  0  4   1\n",
      "8         16  0  0  0  25\n",
      "*******************************************\n"
     ]
    }
   ],
   "source": [
    "# Naive Bayes\n",
    "from sklearn.naive_bayes import MultinomialNB\n",
    "model  = MultinomialNB()\n",
    "NB_result_df  = get_model_results('Naive Bayes',model,X_train,y_train,X_test,y_test)"
   ]
  },
  {
   "cell_type": "code",
   "execution_count": 61,
   "metadata": {},
   "outputs": [
    {
     "name": "stdout",
     "output_type": "stream",
     "text": [
      "*********************************************\n",
      "********** Processing Model K-NN **********\n",
      "********** Prediction In Progress ********** \n",
      "\n",
      "\n",
      "*************** Results *******************\n",
      "Accuracy: \t 59.887 %\n",
      "Confusion Matrix: \n",
      " col_0      0  1   2  3  4  5  6  7   8\n",
      "Category                              \n",
      "0         32  4   7  1  1  2  1  1   7\n",
      "1          3  6   6  1  1  0  0  0   5\n",
      "2          0  0  14  0  0  0  0  0   2\n",
      "3          0  0   0  6  0  0  0  0   3\n",
      "4          0  0   0  0  8  0  0  0   0\n",
      "5          0  0   0  0  0  7  0  0   2\n",
      "6          0  0   0  1  0  0  3  0   4\n",
      "7          1  0   0  0  0  0  1  6   0\n",
      "8          6  0   5  4  0  0  2  0  24\n",
      "*******************************************\n"
     ]
    }
   ],
   "source": [
    "# K-Nearest Neighbour\n",
    "from sklearn.neighbors import KNeighborsClassifier\n",
    "model = KNeighborsClassifier(n_neighbors=9)\n",
    "KNN_result_df = get_model_results('K-NN',model,X_train,y_train,X_test,y_test)"
   ]
  },
  {
   "cell_type": "code",
   "execution_count": 64,
   "metadata": {},
   "outputs": [
    {
     "name": "stdout",
     "output_type": "stream",
     "text": [
      "*********************************************\n",
      "********** Processing Model Random Forest **********\n",
      "********** Prediction In Progress ********** \n",
      "\n",
      "\n",
      "*************** Results *******************\n",
      "Accuracy: \t 48.588 %\n",
      "Confusion Matrix: \n",
      " col_0      0  1  2  3  4  5  6  7   8\n",
      "Category                             \n",
      "0         43  1  0  1  0  0  0  0  11\n",
      "1         11  1  2  0  0  0  0  0   8\n",
      "2          5  1  7  0  0  0  0  0   3\n",
      "3          1  0  0  6  0  0  0  0   2\n",
      "4          4  0  0  0  3  0  0  0   1\n",
      "5          3  0  0  0  0  3  0  0   3\n",
      "6          4  0  0  0  0  0  1  0   3\n",
      "7          4  0  0  0  0  0  0  4   0\n",
      "8         18  2  1  0  0  1  1  0  18\n",
      "*******************************************\n"
     ]
    }
   ],
   "source": [
    "# Random Forest\n",
    "from sklearn.ensemble import RandomForestClassifier\n",
    "model = RandomForestClassifier()\n",
    "RF_result_df = get_model_results('Random Forest',model,X_train,y_train,X_test,y_test)"
   ]
  },
  {
   "cell_type": "markdown",
   "metadata": {},
   "source": [
    "# Gradient Boosting  ## Giving me some error\n",
    "from sklearn.ensemble import GradientBoostingClassifier\n",
    "model = GradientBoostingClassifier()\n",
    "GB_result_df = get_model_results('Gradient Boosting',model,X_train,y_train,X_test,y_test)"
   ]
  },
  {
   "cell_type": "code",
   "execution_count": null,
   "metadata": {},
   "outputs": [],
   "source": [
    "# Linear SVM\n",
    "from sklearn import svm\n",
    "model = svm.svc(kernel='linear', c=1, gamma=1)  ## Change gamma = 0, to check\n",
    "LSVM_result_df = get_model_results('SVM',model,X_train,y_train,X_test,y_test)"
   ]
  },
  {
   "cell_type": "code",
   "execution_count": null,
   "metadata": {},
   "outputs": [],
   "source": [
    "# Non-Linear SVM\n",
    "from sklearn import svm\n",
    "model = svm.svc(kernel='rbf', c=1, gamma=1)\n",
    "NLSVM_result_df = get_model_results('NSVM',model,X_train,y_train,X_test,y_test)"
   ]
  },
  {
   "cell_type": "code",
   "execution_count": null,
   "metadata": {},
   "outputs": [],
   "source": [
    "# ADA boost\n",
    "from sklearn.ensemble import AdaBoostClassifier\n",
    "model = AdaBoostClassifier()\n",
    "ADA_result_df = get_model_results('ADA boost',model,X_train,y_train,X_test,y_test)\n"
   ]
  },
  {
   "cell_type": "markdown",
   "metadata": {},
   "source": [
    "###############################################################\n",
    "# text processing\n",
    "###############################################################\n",
    "import nltk\n",
    "nltk.download('punkt')\n",
    "nltk.download('stopwords')\n",
    "data['word'] = data[1].str.lower()  ### lowercase\n",
    "\n",
    "tokenizer=nltk.tokenize.RegexpTokenizer(r'\\w+')\n",
    "data['word'] =data['word'].apply(tokenizer.tokenize) ### tokenize the words and remove punctuation\n",
    "\n",
    "from nltk.stem.snowball import SnowballStemmer\n",
    "stemmer = SnowballStemmer(\"english\")\n",
    "data['word'] = data['word'].apply(lambda x: [stemmer.stem(y) for y in x]) ### stem the words\n",
    "\n",
    "from nltk.corpus import stopwords\n",
    "stop = stopwords.words('english')\n",
    "data['word'] = data['word'].apply(lambda x: [item for item in x if item not in stop]) ### remove the stop words\n",
    "\n",
    "a_words = text.lower()\n",
    "allWords = tokenizer.tokenize(a_words)\n",
    "meaningful_words = [w for w in allWords if not w in stop]\n",
    "allWordExceptStopDistwithstem = nltk.FreqDist([stemmer.stem(w) for w in meaningful_words])\n",
    "mostCommon= allWordExceptStopDistwithstem.most_common(50)\n",
    "top_50_word_dic = dict(mostCommon)\n",
    "top_50_word = list(top_50_word_dic.keys())  ### build top 50 words\n",
    "\n",
    "data['word'] = data['word'].apply(lambda x: [item for item in x if item not in top_50_word])  ### Remove top 50 words\n",
    "\n",
    "from sacremoses import MosesDetokenizer\n",
    "detokenizer = MosesDetokenizer()\n",
    "data['map_word'] = data['word'].apply(detokenizer.detokenize) # untokenize the words\n"
   ]
  },
  {
   "cell_type": "code",
   "execution_count": null,
   "metadata": {},
   "outputs": [],
   "source": []
  }
 ],
 "metadata": {
  "kernelspec": {
   "display_name": "Python 3",
   "language": "python",
   "name": "python3"
  },
  "language_info": {
   "codemirror_mode": {
    "name": "ipython",
    "version": 3
   },
   "file_extension": ".py",
   "mimetype": "text/x-python",
   "name": "python",
   "nbconvert_exporter": "python",
   "pygments_lexer": "ipython3",
   "version": "3.7.0"
  }
 },
 "nbformat": 4,
 "nbformat_minor": 2
}
